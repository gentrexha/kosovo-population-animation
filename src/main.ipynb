{
 "cells": [
  {
   "cell_type": "markdown",
   "metadata": {},
   "source": [
    "# Kosovo Population Animation"
   ]
  },
  {
   "cell_type": "markdown",
   "metadata": {},
   "source": [
    "## Preprocessing"
   ]
  },
  {
   "cell_type": "code",
   "execution_count": 1,
   "metadata": {},
   "outputs": [],
   "source": [
    "import pandas as pd\n",
    "\n",
    "df_mun = pd.read_csv(\"../data/kosovo-municipalities.csv\")\n",
    "df_pop = pd.read_csv(\"../data/2012-2018_population.csv\", encoding = \"ISO-8859-1\", sep=\";\")"
   ]
  },
  {
   "cell_type": "code",
   "execution_count": 2,
   "metadata": {},
   "outputs": [],
   "source": [
    "# Melt dataframe\n",
    "df_pop.columns = [\"komuna\", \"31-12-2012\", \"31-12-2013\", \"31-12-2014\", \"31-12-2015\", \"31-12-2016\", \"31-12-2017\", \"31-12-2018\"]\n",
    "df_pop = df_pop.melt(id_vars=[\"komuna\"], var_name=\"year\", value_name=\"population\")"
   ]
  },
  {
   "cell_type": "code",
   "execution_count": 3,
   "metadata": {},
   "outputs": [],
   "source": [
    "df_pop[\"year\"] = df_pop[\"year\"].apply(lambda x: x[-4:])"
   ]
  },
  {
   "cell_type": "code",
   "execution_count": 10,
   "metadata": {},
   "outputs": [],
   "source": [
    "# remove special characters\n",
    "df_pop.replace(\"ë\", \"e\", inplace=True, regex=True)\n",
    "df_pop.replace(\"ç\", \"c\", inplace=True, regex=True)"
   ]
  },
  {
   "cell_type": "markdown",
   "metadata": {},
   "source": [
    "### Municipalities data"
   ]
  },
  {
   "cell_type": "code",
   "execution_count": 11,
   "metadata": {},
   "outputs": [
    {
     "name": "stderr",
     "output_type": "stream",
     "text": [
      "C:\\tools\\Anaconda3\\lib\\site-packages\\ipykernel_launcher.py:23: FutureWarning: Sorting because non-concatenation axis is not aligned. A future version\n",
      "of pandas will change to not sort by default.\n",
      "\n",
      "To accept the future behavior, pass 'sort=False'.\n",
      "\n",
      "To retain the current behavior and silence the warning, pass 'sort=True'.\n",
      "\n"
     ]
    }
   ],
   "source": [
    "from pathlib import Path\n",
    "\n",
    "df_all = pd.DataFrame(columns=[\"komuna\", \"year\", \"population\"])\n",
    "\n",
    "pathlist = Path(\"../data/municipalities-data/\").glob('*.csv')\n",
    "for path in pathlist:\n",
    "    komuna = str(path)[str(path).find(\"_\")+1:(str(path).find(\".csv\"))]\n",
    "    df = pd.read_csv(str(path), header=1, encoding = \"ISO-8859-1\", sep=\";\")\n",
    "    df.columns = [\"komuna\", \"1948\", \"1953\", \"1961\", \"1971\", \"1981\", \"1991\", \"2011\"]\n",
    "    df = df.melt(id_vars=[\"komuna\"], var_name=\"year\", value_name=\"population\")\n",
    "    df = pd.concat([df, df_pop.loc[df_pop[\"komuna\"]==komuna]], ignore_index=True)\n",
    "    df[\"komuna\"] = komuna\n",
    "    # TODO(Interpolate the years in between)\n",
    "    df.set_index(\"year\", inplace=True)\n",
    "    df_temp = pd.DataFrame(index=[str(i).zfill(2) for i in range(1948,2019)], columns=[\"komuna\", \"population\"])\n",
    "    df_temp.index.rename('year', inplace=True)\n",
    "    df_temp.update(df)\n",
    "    df_temp.reset_index(inplace=True)\n",
    "    df_temp[\"komuna\"] = komuna\n",
    "    df_temp[\"year\"] = pd.to_numeric(df_temp[\"year\"])\n",
    "    df_temp[\"population\"] = pd.to_numeric(df_temp[\"population\"])\n",
    "    df_temp[\"population\"] = df_temp[\"population\"].interpolate()\n",
    "    df_all = pd.concat([df_all, df_temp], ignore_index=True)"
   ]
  },
  {
   "cell_type": "code",
   "execution_count": 12,
   "metadata": {},
   "outputs": [],
   "source": [
    "df_map = pd.read_csv(\"id_map.csv\", encoding = \"ISO-8859-1\", sep=\",\", names=[\"id\", \"komuna\"], header=0)"
   ]
  },
  {
   "cell_type": "code",
   "execution_count": 13,
   "metadata": {},
   "outputs": [],
   "source": [
    "df_map[\"komuna_raw\"] = df_map[\"komuna\"].values"
   ]
  },
  {
   "cell_type": "code",
   "execution_count": 14,
   "metadata": {},
   "outputs": [],
   "source": [
    "# remove special characters\n",
    "df_map[\"komuna_raw\"].replace(\"ë\", \"e\", inplace=True, regex=True)\n",
    "df_map[\"komuna_raw\"].replace(\"ç\", \"c\", inplace=True, regex=True)"
   ]
  },
  {
   "cell_type": "code",
   "execution_count": 15,
   "metadata": {},
   "outputs": [],
   "source": [
    "komuna_map = pd.Series(df_map[\"komuna\"].values, index=df_map[\"komuna_raw\"]).to_dict()"
   ]
  },
  {
   "cell_type": "code",
   "execution_count": 16,
   "metadata": {},
   "outputs": [],
   "source": [
    "id_map = pd.Series(df_map[\"id\"].values, index=df_map[\"komuna\"]).to_dict()"
   ]
  },
  {
   "cell_type": "code",
   "execution_count": 17,
   "metadata": {},
   "outputs": [],
   "source": [
    "df_all[\"komuna\"].replace(\"Novoberd\", \"Novoberde\", inplace=True, regex=True)"
   ]
  },
  {
   "cell_type": "code",
   "execution_count": 18,
   "metadata": {},
   "outputs": [],
   "source": [
    "df_all[\"komuna\"].replace(\"Shterpc\", \"Shterpce\", inplace=True, regex=True)"
   ]
  },
  {
   "cell_type": "markdown",
   "metadata": {},
   "source": [
    "### Add coordinates"
   ]
  },
  {
   "cell_type": "code",
   "execution_count": 19,
   "metadata": {},
   "outputs": [],
   "source": [
    "# Merge with coordinates after you have everything\n",
    "df = pd.merge(df_all, df_mun[[\"X\", \"Y\", \"nam\"]], how=\"left\", left_on = \"komuna\", right_on = \"nam\")"
   ]
  },
  {
   "cell_type": "code",
   "execution_count": 20,
   "metadata": {},
   "outputs": [],
   "source": [
    "df.drop(\"nam\",inplace=True,axis=1)"
   ]
  },
  {
   "cell_type": "code",
   "execution_count": 21,
   "metadata": {},
   "outputs": [],
   "source": [
    "df[\"komuna_me_e\"] = df[\"komuna\"].replace(to_replace=komuna_map)"
   ]
  },
  {
   "cell_type": "code",
   "execution_count": 22,
   "metadata": {},
   "outputs": [],
   "source": [
    "df[\"komuna_me_e\"].replace(\"Decan\", \"Deçan\", inplace=True, regex=True)"
   ]
  },
  {
   "cell_type": "code",
   "execution_count": 23,
   "metadata": {},
   "outputs": [],
   "source": [
    "df.replace(\"Gllogoc\", \"Drenas\", inplace=True, regex=True)"
   ]
  },
  {
   "cell_type": "code",
   "execution_count": 24,
   "metadata": {},
   "outputs": [],
   "source": [
    "df[\"id\"] = df[\"komuna_me_e\"].replace(to_replace=id_map)"
   ]
  },
  {
   "cell_type": "code",
   "execution_count": 25,
   "metadata": {},
   "outputs": [],
   "source": [
    "df.to_csv(\"../data/population.csv\", index=False)"
   ]
  },
  {
   "cell_type": "markdown",
   "metadata": {},
   "source": [
    "## Animation"
   ]
  },
  {
   "cell_type": "code",
   "execution_count": 10,
   "metadata": {},
   "outputs": [],
   "source": [
    "import imageio\n",
    "from pathlib import Path\n",
    "\n",
    "pathlist = Path(\"./plots/\").glob('*.png')\n",
    "images = []\n",
    "\n",
    "for filename in pathlist:\n",
    "    images.append(imageio.imread(filename))\n",
    "imageio.mimsave('gifs/kosovo-population-v3.gif', images, duration=0.25)"
   ]
  },
  {
   "cell_type": "markdown",
   "metadata": {},
   "source": [
    "## Shapefile"
   ]
  },
  {
   "cell_type": "code",
   "execution_count": 103,
   "metadata": {},
   "outputs": [],
   "source": [
    "import numpy as np\n",
    "import pandas as pd\n",
    "import shapefile as shp\n",
    "import matplotlib.pyplot as plt\n",
    "import seaborn as sns"
   ]
  },
  {
   "cell_type": "code",
   "execution_count": 104,
   "metadata": {},
   "outputs": [],
   "source": [
    "sns.set(style=\"whitegrid\", palette=\"pastel\", color_codes=True)\n",
    "sns.mpl.rc(\"figure\", figsize=(10,6))"
   ]
  },
  {
   "cell_type": "code",
   "execution_count": 105,
   "metadata": {},
   "outputs": [],
   "source": [
    "%matplotlib inline"
   ]
  },
  {
   "cell_type": "code",
   "execution_count": 106,
   "metadata": {},
   "outputs": [],
   "source": [
    "import shapefile as shp  # Requires the pyshp package\n",
    "import matplotlib.pyplot as plt\n",
    "\n",
    "sf = shp.Reader(\"../data/kosovo-shapefile/XK_EA_2018.shp\")"
   ]
  },
  {
   "cell_type": "markdown",
   "metadata": {},
   "source": [
    "## Plotting"
   ]
  },
  {
   "cell_type": "code",
   "execution_count": null,
   "metadata": {},
   "outputs": [],
   "source": [
    "# A lot easier with gganimate in R"
   ]
  }
 ],
 "metadata": {
  "kernelspec": {
   "display_name": "Python 3",
   "language": "python",
   "name": "python3"
  },
  "language_info": {
   "codemirror_mode": {
    "name": "ipython",
    "version": 3
   },
   "file_extension": ".py",
   "mimetype": "text/x-python",
   "name": "python",
   "nbconvert_exporter": "python",
   "pygments_lexer": "ipython3",
   "version": "3.7.3"
  }
 },
 "nbformat": 4,
 "nbformat_minor": 2
}
